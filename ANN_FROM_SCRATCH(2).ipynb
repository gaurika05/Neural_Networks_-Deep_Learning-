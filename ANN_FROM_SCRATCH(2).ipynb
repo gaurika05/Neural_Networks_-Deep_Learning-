{
  "nbformat": 4,
  "nbformat_minor": 0,
  "metadata": {
    "colab": {
      "provenance": [],
      "authorship_tag": "ABX9TyMi4L81o+n5wavb44uOOaY/",
      "include_colab_link": true
    },
    "kernelspec": {
      "name": "python3",
      "display_name": "Python 3"
    },
    "language_info": {
      "name": "python"
    }
  },
  "cells": [
    {
      "cell_type": "markdown",
      "metadata": {
        "id": "view-in-github",
        "colab_type": "text"
      },
      "source": [
        "<a href=\"https://colab.research.google.com/github/gaurika05/Neural_Networks_Deep_Learning/blob/main/ANN_FROM_SCRATCH(2).ipynb\" target=\"_parent\"><img src=\"https://colab.research.google.com/assets/colab-badge.svg\" alt=\"Open In Colab\"/></a>"
      ]
    },
    {
      "cell_type": "code",
      "execution_count": null,
      "metadata": {
        "id": "zSltIABTc8dB"
      },
      "outputs": [],
      "source": [
        "import numpy as np"
      ]
    },
    {
      "cell_type": "code",
      "source": [
        "x = np.array([\n",
        "    [1,0,1,0],\n",
        "    [1,0,1,1],\n",
        "    [0,1,0,1]\n",
        "])\n",
        "\n",
        "y = np.array([[1],[1],[0]])"
      ],
      "metadata": {
        "id": "z2pfYu9fd0oF"
      },
      "execution_count": null,
      "outputs": []
    },
    {
      "cell_type": "code",
      "source": [
        "def sigmoid(x):\n",
        "  return 1/(1+np.exp(-x))"
      ],
      "metadata": {
        "id": "1TLGvDS8eu37"
      },
      "execution_count": null,
      "outputs": []
    },
    {
      "cell_type": "code",
      "source": [
        "x.shape"
      ],
      "metadata": {
        "colab": {
          "base_uri": "https://localhost:8080/"
        },
        "id": "DV_NNl2sfYlU",
        "outputId": "56a41311-2967-4b25-f323-9f3f1e2bdd1c"
      },
      "execution_count": null,
      "outputs": [
        {
          "output_type": "execute_result",
          "data": {
            "text/plain": [
              "(3, 4)"
            ]
          },
          "metadata": {},
          "execution_count": 4
        }
      ]
    },
    {
      "cell_type": "code",
      "source": [
        "inputNeurons = x.shape[1]\n",
        "hiddenNeurons = 4\n",
        "outputNeurons = 1"
      ],
      "metadata": {
        "id": "F0Fyo0BLfOu0"
      },
      "execution_count": null,
      "outputs": []
    },
    {
      "cell_type": "code",
      "source": [
        "#Draw samples from a uniform distribution.\n",
        "weightsHidden = np.random.uniform(size=(inputNeurons,hiddenNeurons))\n",
        "biasHidden = np.random.uniform(size=(1,hiddenNeurons))\n",
        "weightsOutput = np.random.uniform(size=(hiddenNeurons,outputNeurons))\n",
        "biasOutput = np.random.uniform(size=(1,outputNeurons))"
      ],
      "metadata": {
        "id": "HyJ-z0z4fySk"
      },
      "execution_count": null,
      "outputs": []
    },
    {
      "cell_type": "code",
      "source": [
        "fx = np.dot(x,weightsHidden) + biasHidden"
      ],
      "metadata": {
        "id": "iShbk-NYhHO7"
      },
      "execution_count": null,
      "outputs": []
    },
    {
      "cell_type": "code",
      "source": [
        "hiddenLayer = sigmoid(fx)"
      ],
      "metadata": {
        "id": "e-ybmDs7nkup"
      },
      "execution_count": null,
      "outputs": []
    },
    {
      "cell_type": "code",
      "source": [
        "hiddenLayer"
      ],
      "metadata": {
        "colab": {
          "base_uri": "https://localhost:8080/"
        },
        "id": "bC0_Js46nxZg",
        "outputId": "70efd4fa-03db-4c39-d5e4-804976f8da2f"
      },
      "execution_count": null,
      "outputs": [
        {
          "output_type": "execute_result",
          "data": {
            "text/plain": [
              "array([[0.78652315, 0.87828038, 0.64984742, 0.88976933],\n",
              "       [0.89695684, 0.91134467, 0.66785892, 0.94372169],\n",
              "       [0.76205596, 0.7796693 , 0.72140882, 0.90692532]])"
            ]
          },
          "metadata": {},
          "execution_count": 9
        }
      ]
    },
    {
      "cell_type": "code",
      "source": [
        "f_x = np.dot(hiddenLayer,weightsOutput) +biasOutput"
      ],
      "metadata": {
        "id": "cts0mlR6nb9L"
      },
      "execution_count": null,
      "outputs": []
    },
    {
      "cell_type": "code",
      "source": [
        "f_x"
      ],
      "metadata": {
        "colab": {
          "base_uri": "https://localhost:8080/"
        },
        "id": "CvD_dM1_o6M-",
        "outputId": "094fecb2-9466-4154-ce06-c3f46929f533"
      },
      "execution_count": null,
      "outputs": [
        {
          "output_type": "execute_result",
          "data": {
            "text/plain": [
              "array([[2.03793024],\n",
              "       [2.11042275],\n",
              "       [2.00644233]])"
            ]
          },
          "metadata": {},
          "execution_count": 11
        }
      ]
    },
    {
      "cell_type": "code",
      "source": [
        "biasHidden"
      ],
      "metadata": {
        "colab": {
          "base_uri": "https://localhost:8080/"
        },
        "id": "h9RKCud7pAIN",
        "outputId": "d79efed8-b2b8-4a0f-9a86-a36839fcf3fb"
      },
      "execution_count": null,
      "outputs": [
        {
          "output_type": "execute_result",
          "data": {
            "text/plain": [
              "array([[0.29311255, 0.40257024, 0.27859214, 0.79686909]])"
            ]
          },
          "metadata": {},
          "execution_count": 12
        }
      ]
    },
    {
      "cell_type": "code",
      "source": [
        "biasOutput"
      ],
      "metadata": {
        "colab": {
          "base_uri": "https://localhost:8080/"
        },
        "id": "NhNZjLinpCbQ",
        "outputId": "2e585d56-17b1-4f1e-fbca-677919404b5f"
      },
      "execution_count": null,
      "outputs": [
        {
          "output_type": "execute_result",
          "data": {
            "text/plain": [
              "array([[0.3804592]])"
            ]
          },
          "metadata": {},
          "execution_count": 13
        }
      ]
    },
    {
      "cell_type": "code",
      "source": [
        "outputLayer = sigmoid(f_x)"
      ],
      "metadata": {
        "id": "tkUppvccoTxt"
      },
      "execution_count": null,
      "outputs": []
    },
    {
      "cell_type": "code",
      "source": [
        "outputLayer"
      ],
      "metadata": {
        "colab": {
          "base_uri": "https://localhost:8080/"
        },
        "id": "vuxy44WRopWc",
        "outputId": "c716580f-370f-4524-cd5c-bc8201fa897c"
      },
      "execution_count": null,
      "outputs": [
        {
          "output_type": "execute_result",
          "data": {
            "text/plain": [
              "array([[0.88472234],\n",
              "       [0.8919121 ],\n",
              "       [0.88147182]])"
            ]
          },
          "metadata": {},
          "execution_count": 15
        }
      ]
    },
    {
      "cell_type": "code",
      "source": [
        "#Backpropagation"
      ],
      "metadata": {
        "id": "MlZAzSepsQxc"
      },
      "execution_count": null,
      "outputs": []
    },
    {
      "cell_type": "code",
      "source": [
        "def derivativeSigmoid(x):\n",
        "  return x * (1 - x)"
      ],
      "metadata": {
        "id": "zeMHVJSCotKa"
      },
      "execution_count": null,
      "outputs": []
    },
    {
      "cell_type": "code",
      "source": [
        "errorOutput = outputLayer - y\n",
        "slopeOutput = derivativeSigmoid(outputLayer)\n",
        "deltaOutput = errorOutput * slopeOutput"
      ],
      "metadata": {
        "id": "nCosyVl8pipN"
      },
      "execution_count": null,
      "outputs": []
    },
    {
      "cell_type": "code",
      "source": [
        "errorOutput.shape"
      ],
      "metadata": {
        "colab": {
          "base_uri": "https://localhost:8080/"
        },
        "id": "P0wAgMTT6-cS",
        "outputId": "276ca2c3-fdf3-450b-9acf-8ff95b39294a"
      },
      "execution_count": null,
      "outputs": [
        {
          "output_type": "execute_result",
          "data": {
            "text/plain": [
              "(3, 1)"
            ]
          },
          "metadata": {},
          "execution_count": 18
        }
      ]
    },
    {
      "cell_type": "code",
      "source": [
        "deltaOutput.shape"
      ],
      "metadata": {
        "colab": {
          "base_uri": "https://localhost:8080/"
        },
        "id": "VQZ7kTrw6Ygc",
        "outputId": "3ac9078f-bc0b-47da-9587-65d92bd395f5"
      },
      "execution_count": null,
      "outputs": [
        {
          "output_type": "execute_result",
          "data": {
            "text/plain": [
              "(3, 1)"
            ]
          },
          "metadata": {},
          "execution_count": 19
        }
      ]
    },
    {
      "cell_type": "code",
      "source": [
        "weightsOutput.shape"
      ],
      "metadata": {
        "colab": {
          "base_uri": "https://localhost:8080/"
        },
        "id": "vxXro5jG6oXT",
        "outputId": "dca0640b-d3a2-4d7c-916e-739f886d12b1"
      },
      "execution_count": null,
      "outputs": [
        {
          "output_type": "execute_result",
          "data": {
            "text/plain": [
              "(4, 1)"
            ]
          },
          "metadata": {},
          "execution_count": 20
        }
      ]
    },
    {
      "cell_type": "code",
      "source": [
        "errorHidden = np.dot(deltaOutput,weightsOutput.T)\n",
        "slopeHidden = derivativeSigmoid(hiddenLayer)\n",
        "deltaHidden = errorHidden * slopeHidden"
      ],
      "metadata": {
        "id": "gHWf_B203uZ0"
      },
      "execution_count": null,
      "outputs": []
    },
    {
      "cell_type": "code",
      "source": [
        "#code starts here....(lecture 4)"
      ],
      "metadata": {
        "id": "zAbVFDPTsEWM"
      },
      "execution_count": null,
      "outputs": []
    },
    {
      "cell_type": "code",
      "source": [
        "errorOutput"
      ],
      "metadata": {
        "colab": {
          "base_uri": "https://localhost:8080/"
        },
        "id": "x7k8RVBhCrUR",
        "outputId": "28582e3a-81ea-4ab0-ee01-e151916888c5"
      },
      "execution_count": null,
      "outputs": [
        {
          "output_type": "execute_result",
          "data": {
            "text/plain": [
              "array([[-0.11527766],\n",
              "       [-0.1080879 ],\n",
              "       [ 0.88147182]])"
            ]
          },
          "metadata": {},
          "execution_count": 22
        }
      ]
    },
    {
      "cell_type": "code",
      "source": [
        "alpha =0.01\n",
        "weightsOutput = weightsOutput - hiddenLayer.T.dot(deltaOutput) * alpha\n",
        "weightsHidden = weightsHidden - x.T.dot(deltaHidden) * alpha\n",
        "biasOutput = biasOutput - np.sum(deltaOutput) * alpha\n",
        "biasHidden = biasHidden - np.sum(deltaHidden) * alpha"
      ],
      "metadata": {
        "id": "I5Bi6sKmQZrh"
      },
      "execution_count": null,
      "outputs": []
    },
    {
      "cell_type": "code",
      "source": [
        "weightsHidden = np.random.uniform(size=(inputNeurons,hiddenNeurons))\n",
        "biasHidden = np.random.uniform(size=(1,hiddenNeurons))\n",
        "weightsOutput = np.random.uniform(size=(hiddenNeurons,outputNeurons))\n",
        "biasOutput = np.random.uniform(size=(1,outputNeurons))"
      ],
      "metadata": {
        "id": "f0pwMIG3gypR"
      },
      "execution_count": null,
      "outputs": []
    },
    {
      "cell_type": "code",
      "source": [
        "#Combined code here"
      ],
      "metadata": {
        "id": "W9szOEFkgzzS"
      },
      "execution_count": null,
      "outputs": []
    },
    {
      "cell_type": "code",
      "source": [
        "# Train together(for optimization run the code again and again)\n",
        "#alpha and epochs value changed to optimize\n",
        "alpha = 0.01\n",
        "epochs = 30000\n",
        "\n",
        "for i in range(epochs):\n",
        "  #Feedforward\n",
        "  #Step-1->apply dot product and add bias\n",
        "  fx = np.dot(x,weightsHidden) + biasHidden\n",
        "  #Step-2->apply activation function\n",
        "  hiddenLayer = sigmoid(fx)\n",
        "  #Step-3->apply dot product and add  bias\n",
        "  f_x = np.dot(hiddenLayer,weightsOutput) +biasOutput\n",
        "  #Step-4->apply activation function on output layer\n",
        "  outputLayer = sigmoid(f_x)\n",
        "\n",
        "  #Backpropagation\n",
        "  #Error on output layer\n",
        "  errorOutput = outputLayer - y\n",
        "  #slope on iutput layer -\n",
        "  slopeOutput = derivativeSigmoid(outputLayer)\n",
        "  #delta = error x slope\n",
        "  deltaOutput = errorOutput * slopeOutput\n",
        "  errorHidden = np.dot(deltaOutput,weightsOutput.T)\n",
        "  slopeHidden = derivativeSigmoid(hiddenLayer)\n",
        "  deltaHidden = errorHidden * slopeHidden\n",
        "\n",
        "  weightsOutput = weightsOutput - hiddenLayer.T.dot(deltaOutput) * alpha\n",
        "  weightsHidden = weightsHidden - x.T.dot(deltaHidden) * alpha\n",
        "  biasOutput = biasOutput - np.sum(deltaOutput) * alpha\n",
        "  biasHidden = biasHidden - np.sum(deltaHidden) * alpha"
      ],
      "metadata": {
        "id": "oApuZOjIQYDm"
      },
      "execution_count": null,
      "outputs": []
    },
    {
      "cell_type": "code",
      "source": [
        "outputLayer"
      ],
      "metadata": {
        "colab": {
          "base_uri": "https://localhost:8080/"
        },
        "id": "Xa3QvdStjNoG",
        "outputId": "4df9016c-36ab-4f20-da61-f533dd7dde01"
      },
      "execution_count": null,
      "outputs": [
        {
          "output_type": "execute_result",
          "data": {
            "text/plain": [
              "array([[0.97562312],\n",
              "       [0.96554095],\n",
              "       [0.04547918]])"
            ]
          },
          "metadata": {},
          "execution_count": 32
        }
      ]
    }
  ]
}