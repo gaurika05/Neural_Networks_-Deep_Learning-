{
  "nbformat": 4,
  "nbformat_minor": 0,
  "metadata": {
    "colab": {
      "provenance": [],
      "authorship_tag": "ABX9TyMu+oYmcp9wr2bRgXBUURl6",
      "include_colab_link": true
    },
    "kernelspec": {
      "name": "python3",
      "display_name": "Python 3"
    },
    "language_info": {
      "name": "python"
    }
  },
  "cells": [
    {
      "cell_type": "markdown",
      "metadata": {
        "id": "view-in-github",
        "colab_type": "text"
      },
      "source": [
        "<a href=\"https://colab.research.google.com/github/gaurika05/Neural_Networks_Deep_Learning/blob/main/feedforward(ANN)_(1).ipynb\" target=\"_parent\"><img src=\"https://colab.research.google.com/assets/colab-badge.svg\" alt=\"Open In Colab\"/></a>"
      ]
    },
    {
      "cell_type": "markdown",
      "source": [
        "feedforward (without pytorch)"
      ],
      "metadata": {
        "id": "TtuXy-LB1VyG"
      }
    },
    {
      "cell_type": "code",
      "execution_count": null,
      "metadata": {
        "id": "Z4LLSaIVLVDt"
      },
      "outputs": [],
      "source": [
        "import numpy as np"
      ]
    },
    {
      "cell_type": "code",
      "source": [
        "x=np.array([\n",
        "    [1,0,1,0],\n",
        "    [1,0,1,1],\n",
        "    [0,1,0,1]\n",
        "    ])\n",
        "\n",
        "y=np.array([[1],[1],[0]])"
      ],
      "metadata": {
        "id": "vhi5mNaqLX0t"
      },
      "execution_count": null,
      "outputs": []
    },
    {
      "cell_type": "code",
      "source": [
        "#Activation function\n",
        "def sigmoid(x):\n",
        "  return 1/(1+np.exp(-x))"
      ],
      "metadata": {
        "id": "wiOLPoFNLYJq"
      },
      "execution_count": null,
      "outputs": []
    },
    {
      "cell_type": "code",
      "source": [
        "x.shape"
      ],
      "metadata": {
        "colab": {
          "base_uri": "https://localhost:8080/"
        },
        "id": "sbXoQGkl04IJ",
        "outputId": "d3cb54d2-e21a-4215-c228-d569fba782f8"
      },
      "execution_count": null,
      "outputs": [
        {
          "output_type": "execute_result",
          "data": {
            "text/plain": [
              "(3, 4)"
            ]
          },
          "metadata": {},
          "execution_count": 4
        }
      ]
    },
    {
      "cell_type": "code",
      "source": [
        "#input layer neurons will always be able equal to the number of columns\n",
        "inputNeurons = x.shape[1]\n",
        "#hidden neurons we can decide by hit and trial\n",
        "hiddenNeurons = 3\n",
        "#output neurons depends on number of classes we have in target column\n",
        "outputNeurons = 1"
      ],
      "metadata": {
        "id": "b-dZvQCALYgW"
      },
      "execution_count": null,
      "outputs": []
    },
    {
      "cell_type": "code",
      "source": [
        "weightsHidden = np.random.uniform(size=(inputNeurons , hiddenNeurons))\n",
        "biasHidden = np.random.uniform(size=(1,hiddenNeurons))\n",
        "weightsOutput = np.random.uniform(size=(hiddenNeurons, outputNeurons))\n",
        "biasOutput = np.random.uniform(size=(1,outputNeurons))"
      ],
      "metadata": {
        "id": "3Vu4fzWnLY8m"
      },
      "execution_count": null,
      "outputs": []
    },
    {
      "cell_type": "code",
      "source": [
        "#Feedforward\n",
        "#Step-1 - apply dot product and add bias : f(x) = x.wh +biasHidden\n",
        "fx= np.dot(x,weightsHidden) + biasHidden"
      ],
      "metadata": {
        "id": "kg3-yPV1LZPa"
      },
      "execution_count": null,
      "outputs": []
    },
    {
      "cell_type": "code",
      "source": [
        "#Step -2 -apply activation function\n",
        "hiddenLayer = sigmoid(fx)"
      ],
      "metadata": {
        "id": "1rZ8aLm6LZna"
      },
      "execution_count": null,
      "outputs": []
    },
    {
      "cell_type": "code",
      "source": [
        "hiddenLayer"
      ],
      "metadata": {
        "id": "hFtRAGcKLaCA",
        "colab": {
          "base_uri": "https://localhost:8080/"
        },
        "outputId": "2271d508-02a9-4aed-88ff-e0c89bd71fa8"
      },
      "execution_count": null,
      "outputs": [
        {
          "output_type": "execute_result",
          "data": {
            "text/plain": [
              "array([[0.68349469, 0.83388217, 0.70804354],\n",
              "       [0.84323571, 0.92528736, 0.71269911],\n",
              "       [0.78576854, 0.84317475, 0.76143731]])"
            ]
          },
          "metadata": {},
          "execution_count": 9
        }
      ]
    },
    {
      "cell_type": "code",
      "source": [
        "#Step -3 - apply dot product and bias : f(x)= hiddenLayer.wout + biasOut\n",
        "fx_ = np.dot(hiddenLayer, weightsOutput) + biasOutput"
      ],
      "metadata": {
        "id": "R3Eevqj4Lc_z"
      },
      "execution_count": null,
      "outputs": []
    },
    {
      "cell_type": "code",
      "source": [
        "fx_"
      ],
      "metadata": {
        "id": "aRNMXBw1LdUg",
        "colab": {
          "base_uri": "https://localhost:8080/"
        },
        "outputId": "324a7684-0bc2-4371-af81-986a77ea6db8"
      },
      "execution_count": null,
      "outputs": [
        {
          "output_type": "execute_result",
          "data": {
            "text/plain": [
              "array([[1.33878512],\n",
              "       [1.46774171],\n",
              "       [1.43718464]])"
            ]
          },
          "metadata": {},
          "execution_count": 11
        }
      ]
    },
    {
      "cell_type": "code",
      "source": [
        "biasHidden"
      ],
      "metadata": {
        "colab": {
          "base_uri": "https://localhost:8080/"
        },
        "id": "y1uiUqJyuH6K",
        "outputId": "c4901497-e1e1-4fcb-c001-022663e70554"
      },
      "execution_count": null,
      "outputs": [
        {
          "output_type": "execute_result",
          "data": {
            "text/plain": [
              "array([[0.12485594, 0.55769099, 0.14871212]])"
            ]
          },
          "metadata": {},
          "execution_count": 12
        }
      ]
    },
    {
      "cell_type": "code",
      "source": [
        "biasOutput"
      ],
      "metadata": {
        "id": "qg2-m7NHLd0O",
        "colab": {
          "base_uri": "https://localhost:8080/"
        },
        "outputId": "95e532e6-59d3-4c3c-ea08-0e87b000dc55"
      },
      "execution_count": null,
      "outputs": [
        {
          "output_type": "execute_result",
          "data": {
            "text/plain": [
              "array([[0.20474312]])"
            ]
          },
          "metadata": {},
          "execution_count": 13
        }
      ]
    },
    {
      "cell_type": "code",
      "source": [
        "outputLayer = sigmoid(fx_)"
      ],
      "metadata": {
        "id": "s36Yb2lQLeFk"
      },
      "execution_count": null,
      "outputs": []
    },
    {
      "cell_type": "code",
      "source": [
        "outputLayer"
      ],
      "metadata": {
        "id": "QiEi2u8vLeWJ",
        "colab": {
          "base_uri": "https://localhost:8080/"
        },
        "outputId": "885487f5-95b3-44a0-d508-6e062c42d511"
      },
      "execution_count": null,
      "outputs": [
        {
          "output_type": "execute_result",
          "data": {
            "text/plain": [
              "array([[0.79229008],\n",
              "       [0.81271389],\n",
              "       [0.8080183 ]])"
            ]
          },
          "metadata": {},
          "execution_count": 15
        }
      ]
    },
    {
      "cell_type": "markdown",
      "source": [
        "backpropagation"
      ],
      "metadata": {
        "id": "YPGDnBQ0oQhn"
      }
    },
    {
      "cell_type": "code",
      "source": [
        "def derivativeSigmoid(x):\n",
        "  return x *(1-x)"
      ],
      "metadata": {
        "id": "luZt4hvEoPoj"
      },
      "execution_count": null,
      "outputs": []
    },
    {
      "cell_type": "code",
      "source": [
        "#Backpropagation\n",
        "\n",
        "#Error on output layer\n",
        "errorOutput = outputLayer - y\n",
        "# Slope on output layer - derivative of activation function applied on this layer\n",
        "slopeOutput = derivativeSigmoid(outputLayer)\n",
        "#Delta =error x slope\n",
        "deltaOutput = errorOutput * slopeOutput"
      ],
      "metadata": {
        "id": "AKcodeF-pAPy"
      },
      "execution_count": null,
      "outputs": []
    },
    {
      "cell_type": "code",
      "source": [
        "errorHidden = np.dot(deltaOutput,weightsOutput.T)  # very important step\n",
        "slopeHidden = derivativeSigmoid(hiddenLayer)\n",
        "deltaHidden = errorHidden * slopeHidden"
      ],
      "metadata": {
        "id": "7bYvnqWXr3Cy"
      },
      "execution_count": null,
      "outputs": []
    },
    {
      "cell_type": "code",
      "source": [
        "#deltaOutput.shape\n",
        "#weightsOutput.shape\n",
        "#slopeHidden.shape\n",
        "#deltaHidden.shape"
      ],
      "metadata": {
        "colab": {
          "base_uri": "https://localhost:8080/"
        },
        "id": "ShkADqASXmYb",
        "outputId": "89ccd368-736e-42e2-c349-9516786b063e"
      },
      "execution_count": null,
      "outputs": [
        {
          "output_type": "execute_result",
          "data": {
            "text/plain": [
              "(3, 3)"
            ]
          },
          "metadata": {},
          "execution_count": 24
        }
      ]
    }
  ]
}